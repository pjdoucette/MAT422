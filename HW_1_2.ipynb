{
  "nbformat": 4,
  "nbformat_minor": 0,
  "metadata": {
    "colab": {
      "provenance": [],
      "authorship_tag": "ABX9TyMLFeeyJJV7vT0BJe+JZe3x",
      "include_colab_link": true
    },
    "kernelspec": {
      "name": "python3",
      "display_name": "Python 3"
    },
    "language_info": {
      "name": "python"
    }
  },
  "cells": [
    {
      "cell_type": "markdown",
      "metadata": {
        "id": "view-in-github",
        "colab_type": "text"
      },
      "source": [
        "<a href=\"https://colab.research.google.com/github/pjdoucette/MAT422/blob/main/HW_1_2.ipynb\" target=\"_parent\"><img src=\"https://colab.research.google.com/assets/colab-badge.svg\" alt=\"Open In Colab\"/></a>"
      ]
    },
    {
      "cell_type": "markdown",
      "source": [
        "# 1.2 Elements of Linear Algebra"
      ],
      "metadata": {
        "id": "8tGrHkE3-2Ls"
      }
    },
    {
      "cell_type": "markdown",
      "source": [
        "\n",
        "\n",
        "---\n",
        "\n"
      ],
      "metadata": {
        "id": "Y67vvQGl_QuU"
      }
    },
    {
      "cell_type": "markdown",
      "source": [
        "Key Concepts:\n",
        "\n",
        "\n",
        "*   Linear Spaces\n",
        "*   Orthogonality\n",
        "*   Gram-Schmidt Process\n",
        "*   Eigenvalues & Eigenvectors\n",
        "\n",
        "\n",
        "\n"
      ],
      "metadata": {
        "id": "7TfWngYW_Sad"
      }
    },
    {
      "cell_type": "markdown",
      "source": [
        "#### Set up"
      ],
      "metadata": {
        "id": "p47YJSRijO-g"
      }
    },
    {
      "cell_type": "code",
      "execution_count": 51,
      "metadata": {
        "id": "kUBKrnSS94Hv"
      },
      "outputs": [],
      "source": [
        "import numpy as np\n",
        "import matplotlib.pyplot as plt"
      ]
    },
    {
      "cell_type": "markdown",
      "source": [
        "\n",
        "\n",
        "---\n",
        "\n"
      ],
      "metadata": {
        "id": "v_OgkGiWYFDJ"
      }
    },
    {
      "cell_type": "markdown",
      "source": [
        "###Linear Spaces"
      ],
      "metadata": {
        "id": "iXYPyvbWjyxr"
      }
    },
    {
      "cell_type": "markdown",
      "source": [
        "**Linear Subspace & Combination**\n",
        "\n",
        "A linear subspace is the result of a linear combination, which is a new vector constructed by multiplying each vector in a subset by a constant and adding the result.\n",
        "\n",
        "\n",
        "\n"
      ],
      "metadata": {
        "id": "OB6LNyx2mOxa"
      }
    },
    {
      "cell_type": "code",
      "source": [
        "# Define two vectors\n",
        "v1 = np.array([1, 2])\n",
        "v2 = np.array([3, 1])\n",
        "\n",
        "# Create linear combination\n",
        "a, b = 2, -1\n",
        "linearCombination = a * v1 + b * v2\n",
        "\n",
        "# Plot\n",
        "plt.quiver(0, 0, v1[0], v1[1], angles='xy', scale_units='xy', scale=1, color='r', label='v1')\n",
        "plt.quiver(0, 0, v2[0], v2[1], angles='xy', scale_units='xy', scale=1, color='b', label='v2')\n",
        "plt.quiver(0, 0, linearCombination[0], linearCombination[1], angles='xy', scale_units='xy', scale=1, color='g', label='(2 * v1) + (-1 * v2)')\n",
        "\n",
        "plt.xlim(-3, 5)\n",
        "plt.ylim(-1, 5)\n",
        "plt.axhline(0, color='black')\n",
        "plt.axvline(0, color='black')\n",
        "plt.grid(True)\n",
        "plt.legend()\n",
        "plt.title('Linear Combination of Vectors')\n",
        "plt.show()"
      ],
      "metadata": {
        "colab": {
          "base_uri": "https://localhost:8080/",
          "height": 452
        },
        "id": "jkVc2YjmHQ3A",
        "outputId": "addf77bd-0ef3-453b-b5a7-376bbc76156e"
      },
      "execution_count": 52,
      "outputs": [
        {
          "output_type": "display_data",
          "data": {
            "text/plain": [
              "<Figure size 640x480 with 1 Axes>"
            ],
            "image/png": "[encoded data removed]"
          },
          "metadata": {}
        }
      ]
    },
    {
      "cell_type": "markdown",
      "source": [
        "**Span**\n",
        "\n",
        "The span($w_1$,...,$w_m$) is the set of all linear combinations of $w_j$'s given that $w_1$,...,$w_m \\epsilon V$. Every span is a linear subspace. The spanning set of $U$, a linear subspace, is the list of vectors that span  $U$."
      ],
      "metadata": {
        "id": "rt4JpddQHSIn"
      }
    },
    {
      "cell_type": "code",
      "source": [
        "# Define the span of v1 and v2\n",
        "span = [a * v1 + b * v2 for a in np.linspace(-2, 2, 10) for b in np.linspace(-2, 2, 10)]\n",
        "span = np.array(span)\n",
        "\n",
        "# Plot\n",
        "plt.scatter(span[:, 0], span[:, 1], color='purple', label='Span of v1 and v2')\n",
        "plt.quiver(0, 0, v1[0], v1[1], angles='xy', scale_units='xy', scale=1, color='r', label='v1')\n",
        "plt.quiver(0, 0, v2[0], v2[1], angles='xy', scale_units='xy', scale=1, color='b', label='v2')\n",
        "\n",
        "plt.xlim(-3, 5)\n",
        "plt.ylim(-1, 5)\n",
        "plt.axhline(0, color='black')\n",
        "plt.axvline(0, color='black')\n",
        "plt.grid(True)\n",
        "plt.legend()\n",
        "plt.title('Span of Vectors v1 and v2')\n",
        "plt.show()"
      ],
      "metadata": {
        "id": "_MIATPZQj44S",
        "colab": {
          "base_uri": "https://localhost:8080/",
          "height": 452
        },
        "outputId": "5501e75e-f09c-41d5-ae90-f2c2d068ac72"
      },
      "execution_count": 53,
      "outputs": [
        {
          "output_type": "display_data",
          "data": {
            "text/plain": [
              "<Figure size 640x480 with 1 Axes>"
            ],
            "image/png": "[encoded data removed]"
          },
          "metadata": {}
        }
      ]
    },
    {
      "cell_type": "markdown",
      "source": [
        "**Linear Independence**\n",
        "If no vectors in a list can be written as linear combinations of the others, the list is linearly independent.\n",
        "\n",
        "$$\\forall i, \\, u_i \\notin \\text{span}(\\{u_j : j \\neq i\\}).$$\n",
        "\n",
        "If a the vector list is not linear independent, it is linear dependent.\n",
        "\n",
        "\n",
        "**Column Space**\n",
        "The column space of a matrix is the set of all possible linear combinations of its column vectors (the span of the columns of a matrix).\n",
        "\n",
        "**Basis**\n",
        "A basis of a vector space is a set of linearly independent vectors that spans the entire space.\n",
        "\n",
        "**Dimension**\n",
        "The dimension of a matrix is the number of vectors in a basis for the space (rows * columns).\n",
        "\n",
        "**Rank**\n",
        "The rank of a matrix is the dimension of its column space.\n"
      ],
      "metadata": {
        "id": "Z4vN-PFGJitZ"
      }
    },
    {
      "cell_type": "code",
      "source": [
        "def dependencyCheck(*vectors):\n",
        "    matrix = np.column_stack(vectors)\n",
        "    rank = np.linalg.matrix_rank(matrix)\n",
        "    dimension = len(vectors[0])\n",
        "\n",
        "    print(f\"Dimension of the space: {dimension}\")\n",
        "    print(f\"Rank of the matrix: {rank}\")\n",
        "\n",
        "    if rank == len(vectors):\n",
        "        print(\"Linearly independent\")\n",
        "    else:\n",
        "        print(\"Linearly dependent.\")\n",
        "    print()\n",
        "\n",
        "\n",
        "# Examples\n",
        "a = np.array([5, 15])\n",
        "b = np.array([10, 30])\n",
        "c = np.array([9, 15])\n",
        "\n",
        "dependencyCheck(a, b)\n",
        "dependencyCheck(a, c)\n",
        "dependencyCheck(a, b, c)"
      ],
      "metadata": {
        "colab": {
          "base_uri": "https://localhost:8080/"
        },
        "id": "O1rT-YsvMeUI",
        "outputId": "b2c8dfb1-e2e2-4ff9-ea94-d8c01d0d7cf4"
      },
      "execution_count": 54,
      "outputs": [
        {
          "output_type": "stream",
          "name": "stdout",
          "text": [
            "Dimension of the space: 2\n",
            "Rank of the matrix: 1\n",
            "Linearly dependent.\n",
            "\n",
            "Dimension of the space: 2\n",
            "Rank of the matrix: 2\n",
            "Linearly independent\n",
            "\n",
            "Dimension of the space: 2\n",
            "Rank of the matrix: 2\n",
            "Linearly dependent.\n",
            "\n"
          ]
        }
      ]
    },
    {
      "cell_type": "markdown",
      "source": [
        "###Orthogonality"
      ],
      "metadata": {
        "id": "O-sUXv04lCuV"
      }
    },
    {
      "cell_type": "markdown",
      "source": [
        "Orthogonal vectors are perpendicular to each other. In other words, two vectors are orthogonal if their dot product is zero.\n",
        "\n",
        "**Norm**\n",
        "\n",
        "The norm of a vector is a measure of its length or magnitude:\n",
        "$<u,v> = u \\cdot v = \\sum_i^n u_iv_i$\n",
        "\n",
        "**Inner Product**\n",
        "\n",
        "The inner product combines two vectors to produce a scalar:\n",
        "$\\|v\\| = \\sqrt {\\sum_1^n u_i^2}$\n",
        "\n",
        "\n",
        "\n"
      ],
      "metadata": {
        "id": "y7LoRfO_oi7d"
      }
    },
    {
      "cell_type": "code",
      "source": [
        "# Define vectors u and v\n",
        "u = np.array([2, 3])\n",
        "v = np.array([4, 1])\n",
        "\n",
        "# Calculate norm of vector v\n",
        "norm_v = np.linalg.norm(v)\n",
        "\n",
        "# Calculate inner product of u and v\n",
        "inner_product = np.dot(u, v)\n",
        "\n",
        "print(f\"Vector u: {u}\")\n",
        "print(f\"Vector v: {v}\")\n",
        "print(f\"The norm of vector v (|v|) is: {norm_v:.2f}\")\n",
        "print(f\"The inner product of u and v (<u, v>) is: {inner_product}\")"
      ],
      "metadata": {
        "colab": {
          "base_uri": "https://localhost:8080/"
        },
        "id": "THZAV_qjRmZk",
        "outputId": "31134a9c-06d2-4689-8281-96ad6fb8add7"
      },
      "execution_count": 55,
      "outputs": [
        {
          "output_type": "stream",
          "name": "stdout",
          "text": [
            "Vector u: [2 3]\n",
            "Vector v: [4 1]\n",
            "The norm of vector v (|v|) is: 4.12\n",
            "The inner product of u and v (<u, v>) is: 11\n"
          ]
        }
      ]
    },
    {
      "cell_type": "markdown",
      "source": [
        "**Orthonormal Vectors**\n",
        "\n",
        "A vector list is orthonomal or the vectors are pairwise orthogonal and each has norm 1.\n",
        "\n",
        "**Best Approximation Theorem**\n",
        "Given a linear subspace $U \\subseteq V$ and vector $v \\nsubseteq U$, this theorem helps us find the vector $v*$ in $U$ that is closest to $v$ in the norm, we want to solve:\n",
        "\n",
        "$$ \\min_{\\mathbf{v}^* \\in U} \\|\\mathbf{v}^* - \\mathbf{v}\\| $$\n",
        "\n",
        "We use the Pythagorean theorem to prove optimality of $v*$ by getting:\n",
        "\n",
        "$$ \\|\\mathbf{v} - \\alpha \\mathbf{u}_1\\|^2 \\geq \\|\\mathbf{v} - \\mathbf{v}^*\\|^2 $$\n",
        "\n",
        "\n"
      ],
      "metadata": {
        "id": "kZNVkWkPRl4-"
      }
    },
    {
      "cell_type": "code",
      "source": [
        "v = np.array([3, 4])\n",
        "u1 = np.array([2, 1])\n",
        "\n",
        "# Compute projection of v onto u1\n",
        "alpha = np.dot(v, u1) / np.dot(u1, u1)\n",
        "v_star = alpha * u1\n",
        "origin = np.array([0, 0])\n",
        "\n",
        "# Compute the norm\n",
        "norm1 = np.linalg.norm(v - v_star)\n",
        "norm2 = np.linalg.norm(v - alpha * u1)\n",
        "\n",
        "# Plot\n",
        "plt.figure(figsize=(8, 8))\n",
        "plt.quiver(*origin, *u1, angles='xy', scale_units='xy', scale=1, color='b', label=r'$\\mathbf{u}_1$')\n",
        "plt.quiver(*origin, *v, angles='xy', scale_units='xy', scale=1, color='r', label=r'$\\mathbf{v}$')\n",
        "plt.quiver(*origin, *v_star, angles='xy', scale_units='xy', scale=1, color='g', label=r'$\\mathbf{v}^*$ (Projection of $\\mathbf{v}$ onto $\\mathbf{u}_1$)')\n",
        "plt.plot([v[0], v_star[0]], [v[1], v_star[1]], 'k--', label=r'$\\mathbf{v} - \\mathbf{v}^*$')\n",
        "\n",
        "plt.xlim(-1, 5)\n",
        "plt.ylim(-1, 5)\n",
        "plt.axhline(0, color='black',linewidth=0.5)\n",
        "plt.axvline(0, color='black',linewidth=0.5)\n",
        "plt.grid(True)\n",
        "plt.gca().set_aspect('equal', adjustable='box')\n",
        "plt.legend(loc='upper left')\n",
        "plt.title(r'Best Approximation Theorem')\n",
        "plt.show()\n",
        "\n",
        "print(f\"Norm of v - v*: {norm1:.2f}\")\n",
        "print(f\"Norm of v - α u1: {norm2:.2f}\")\n"
      ],
      "metadata": {
        "colab": {
          "base_uri": "https://localhost:8080/",
          "height": 734
        },
        "id": "ycD1mVD2Rbqy",
        "outputId": "a201bb22-b27d-4186-d9b3-9f3ddeba1b68"
      },
      "execution_count": 56,
      "outputs": [
        {
          "output_type": "display_data",
          "data": {
            "text/plain": [
              "<Figure size 800x800 with 1 Axes>"
            ],
            "image/png": "[encoded data removed]"
          },
          "metadata": {}
        },
        {
          "output_type": "stream",
          "name": "stdout",
          "text": [
            "Norm of v - v*: 2.24\n",
            "Norm of v - α u1: 2.24\n"
          ]
        }
      ]
    },
    {
      "cell_type": "markdown",
      "source": [
        "###Gram-Schmidt Process"
      ],
      "metadata": {
        "id": "k3QiwxG1lGfr"
      }
    },
    {
      "cell_type": "markdown",
      "source": [
        "The process is used to find an orthonormal basis from a set of linearly independent vectors. Basically, to find the basis the vectors are added one by one after taking out their orthogonal projection on the previously included vectors."
      ],
      "metadata": {
        "id": "iE0hNVr8U92V"
      }
    },
    {
      "cell_type": "code",
      "source": [
        "v1 = np.array([2, 1])\n",
        "v2 = np.array([1, 2])\n",
        "\n",
        "# Normalize v1 to get u1\n",
        "u1 = v1 / np.linalg.norm(v1)\n",
        "\n",
        "# Subtract the projection of v2 onto u1 from v2 to get orthogonal component\n",
        "proj_v2_u1 = np.dot(v2, u1) * u1\n",
        "u2_prime = v2 - proj_v2_u1\n",
        "\n",
        "# Normalize u2_prime to get u2\n",
        "u2 = u2_prime / np.linalg.norm(u2_prime)\n",
        "u1 = np.round(u1, 5)\n",
        "u2 = np.round(u2, 5)\n",
        "\n",
        "print(\"Original vectors:\")\n",
        "print(f\"v1 = {v1}\")\n",
        "print(f\"v2 = {v2}\\n\")\n",
        "\n",
        "print(\"Orthonormal basis vectors from GSP\")\n",
        "print(f\"u1 = {u1}\")\n",
        "print(f\"u2 = {u2}\\n\")\n",
        "\n",
        "# Verification\n",
        "dot_product = np.round(np.dot(u1, u2), 4)\n",
        "norm_u1 = np.round(np.linalg.norm(u1), 4)\n",
        "norm_u2 = np.round(np.linalg.norm(u2), 4)\n",
        "\n",
        "print(\"Verification:\")\n",
        "print(f\"u1 · u2 = {dot_product} (should be close to 0)\")\n",
        "print(f\"||u1|| = {norm_u1} (should be 1)\")\n",
        "print(f\"||u2|| = {norm_u2} (should be 1)\")\n"
      ],
      "metadata": {
        "colab": {
          "base_uri": "https://localhost:8080/"
        },
        "id": "vwuyptFdE8G7",
        "outputId": "70b714cd-a59a-410d-9286-6d061138f758"
      },
      "execution_count": 57,
      "outputs": [
        {
          "output_type": "stream",
          "name": "stdout",
          "text": [
            "Original vectors:\n",
            "v1 = [2 1]\n",
            "v2 = [1 2]\n",
            "\n",
            "Orthonormal basis vectors from GSP\n",
            "u1 = [0.89443 0.44721]\n",
            "u2 = [-0.44721  0.89443]\n",
            "\n",
            "Verification:\n",
            "u1 · u2 = 0.0 (should be close to 0)\n",
            "||u1|| = 1.0 (should be 1)\n",
            "||u2|| = 1.0 (should be 1)\n"
          ]
        }
      ]
    },
    {
      "cell_type": "markdown",
      "source": [
        "###Eigenvalues & Eigenvectors"
      ],
      "metadata": {
        "id": "dSAFKbLmlO6x"
      }
    },
    {
      "cell_type": "markdown",
      "source": [
        "**Eigenvalue & Eigenvector**\n",
        "\n",
        "If $A  \\epsilon  R^{dxd}$ is a square matrix, then $\\lambda \\epsilon R$ is an eigenvalue of A if there exists a nonzero vector $x \\neq 0$ such that $Ax = \\lambda x$. The nonzero vector $x$ is an eigenvector. The eigenvalue $\\lambda$ represents a scalar that, when multiplied by the eigenvector $x$, gives the same result as applying the matrix $A$ to $x$. If $A$ is symmetric, then any two eigenvectors from distinct eigenspaces are orthogonal\n"
      ],
      "metadata": {
        "id": "NtPuvSRCXCNv"
      }
    },
    {
      "cell_type": "code",
      "source": [
        "A = np.array([[4, -1],\n",
        "              [2, 1]])\n",
        "\n",
        "eigenvalues, eigenvectors = np.linalg.eig(A)\n",
        "\n",
        "print(\"Matrix:\")\n",
        "print(A)\n",
        "\n",
        "print(\"\\nEigenvalues:\")\n",
        "print(eigenvalues)\n",
        "\n",
        "print(\"\\nEigenvectors:\")\n",
        "print(eigenvectors)"
      ],
      "metadata": {
        "colab": {
          "base_uri": "https://localhost:8080/"
        },
        "id": "GB-w1c-5YOX4",
        "outputId": "8b68cfdb-0d48-4f83-d58f-34c5f43d395c"
      },
      "execution_count": 58,
      "outputs": [
        {
          "output_type": "stream",
          "name": "stdout",
          "text": [
            "Matrix:\n",
            "[[ 4 -1]\n",
            " [ 2  1]]\n",
            "\n",
            "Eigenvalues:\n",
            "[3. 2.]\n",
            "\n",
            "Eigenvectors:\n",
            "[[0.70710678 0.4472136 ]\n",
            " [0.70710678 0.89442719]]\n"
          ]
        }
      ]
    },
    {
      "cell_type": "markdown",
      "source": [
        "**Constrained Optimization**\n",
        "\n",
        "$A$ is a $n\\times n$ symmetric matrix $A$ with an orthogonal diagonalization $tA=PDP^{−1}$, and the columns of $P$ are orthonormal eigenvectors of $A$. Assume that the diagonal of $D$ are arranged so that $\\lambda_1\\leq\\lambda_2,\\dots\\leq\\lambda_n$. Then\n",
        "$$\\min_{x\\neq 0}\\frac{{x}^TA{x}}{{x}^T{x}}=\\lambda_1$$\n",
        "is achieved when ${x}={v}_1$ and  \n",
        "$$\\min_{x\\neq 0}\\frac{{x}^TA{x}}{{x}^T{x}}=\\lambda_n$$\n",
        "is achieved when ${x}={v}_n$."
      ],
      "metadata": {
        "id": "sFuFAO92aQ66"
      }
    }
  ]
}