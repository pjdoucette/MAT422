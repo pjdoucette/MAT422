{
  "nbformat": 4,
  "nbformat_minor": 0,
  "metadata": {
    "colab": {
      "provenance": [],
      "authorship_tag": "ABX9TyOWsI5fRoqmkFfog9Axg/SF",
      "include_colab_link": true
    },
    "kernelspec": {
      "name": "python3",
      "display_name": "Python 3"
    },
    "language_info": {
      "name": "python"
    }
  },
  "cells": [
    {
      "cell_type": "markdown",
      "metadata": {
        "id": "view-in-github",
        "colab_type": "text"
      },
      "source": [
        "<a href=\"https://colab.research.google.com/github/pjdoucette/MAT422/blob/main/HW_1_3.ipynb\" target=\"_parent\"><img src=\"https://colab.research.google.com/assets/colab-badge.svg\" alt=\"Open In Colab\"/></a>"
      ]
    },
    {
      "cell_type": "markdown",
      "source": [
        "# 1.3 Linear Regression"
      ],
      "metadata": {
        "id": "8tGrHkE3-2Ls"
      }
    },
    {
      "cell_type": "markdown",
      "source": [
        "\n",
        "\n",
        "---\n",
        "\n"
      ],
      "metadata": {
        "id": "Y67vvQGl_QuU"
      }
    },
    {
      "cell_type": "markdown",
      "source": [
        "Key Concepts:\n",
        "\n",
        "\n",
        "*   QR Decomposition\n",
        "*   Least-Squares Problems\n",
        "*   Linear Regression\n",
        "\n",
        "\n",
        "\n"
      ],
      "metadata": {
        "id": "7TfWngYW_Sad"
      }
    },
    {
      "cell_type": "markdown",
      "source": [
        "#### Set up"
      ],
      "metadata": {
        "id": "p47YJSRijO-g"
      }
    },
    {
      "cell_type": "code",
      "execution_count": null,
      "metadata": {
        "id": "kUBKrnSS94Hv"
      },
      "outputs": [],
      "source": [
        "import numpy as np\n",
        "import matplotlib.pyplot as plt"
      ]
    },
    {
      "cell_type": "markdown",
      "source": [
        "\n",
        "\n",
        "---\n",
        "\n"
      ],
      "metadata": {
        "id": "v_OgkGiWYFDJ"
      }
    },
    {
      "cell_type": "markdown",
      "source": [
        "###QR Decomposition"
      ],
      "metadata": {
        "id": "iXYPyvbWjyxr"
      }
    },
    {
      "cell_type": "markdown",
      "source": [
        "QR decomposition is used to solve linear least squares problems. It is a decomposition of matrix $A$ into product $A=QR$ where $Q$ is an orthonormal matrix ($Q ^T = Q ^{-1}$) and R is an upper triangular matrix.\n",
        "\n",
        "$Q = [e _1 ... e _k ]$\n",
        "\n",
        "$R = Q ^T A$\n",
        "\n",
        "\n"
      ],
      "metadata": {
        "id": "OB6LNyx2mOxa"
      }
    },
    {
      "cell_type": "code",
      "source": [
        "# Matrix A\n",
        "A = np.array([[1, 1, 0],\n",
        "              [1, 0, 1],\n",
        "              [0, 1, 1]])\n",
        "# QR decomposition using Gram-Schmidt process\n",
        "def gram_schmidt(A):\n",
        "    m, n = A.shape\n",
        "    Q = np.zeros((m, n))\n",
        "    R = np.zeros((n, n))\n",
        "\n",
        "    for j in range(n):\n",
        "        v = A[:, j]\n",
        "\n",
        "        for i in range(j):\n",
        "            R[i, j] = np.dot(Q[:, i], A[:, j])\n",
        "            v = v - R[i, j] * Q[:, i]\n",
        "\n",
        "        R[j, j] = np.linalg.norm(v)\n",
        "        Q[:, j] = v / R[j, j]\n",
        "\n",
        "    return Q, R\n",
        "\n",
        "Q, R = gram_schmidt(A)\n",
        "Q_rounded = np.round(Q, decimals=2)\n",
        "R_rounded = np.round(R, decimals=2)\n",
        "\n",
        "# Print\n",
        "print(\"Matrix A:\\n\", A)\n",
        "print(\"Matrix Q (Orthonormal):\\n\", Q_rounded)\n",
        "print(\"Matrix R (Upper Triangular):\\n\", R_rounded)\n"
      ],
      "metadata": {
        "colab": {
          "base_uri": "https://localhost:8080/"
        },
        "id": "jkVc2YjmHQ3A",
        "outputId": "bf197c27-2189-4ed5-bf4e-9686433117c5"
      },
      "execution_count": 19,
      "outputs": [
        {
          "output_type": "stream",
          "name": "stdout",
          "text": [
            "Matrix A:\n",
            " [[1 1 0]\n",
            " [1 0 1]\n",
            " [0 1 1]]\n",
            "Matrix Q (Orthonormal):\n",
            " [[ 0.71  0.41 -0.58]\n",
            " [ 0.71 -0.41  0.58]\n",
            " [ 0.    0.82  0.58]]\n",
            "Matrix R (Upper Triangular):\n",
            " [[1.41 0.71 0.71]\n",
            " [0.   1.22 0.41]\n",
            " [0.   0.   1.15]]\n"
          ]
        }
      ]
    },
    {
      "cell_type": "markdown",
      "source": [
        "Now we can verify that $QQ^T=I$ and that $A=QR$"
      ],
      "metadata": {
        "id": "hqs8TxPoS_ZP"
      }
    },
    {
      "cell_type": "code",
      "source": [
        "def verify_orthonormal(Q):\n",
        "    i_approx = np.dot(Q, Q.T)\n",
        "    i = np.eye(Q.shape[0])\n",
        "\n",
        "    i_approx_rounded = np.round(i_approx, decimals=2)\n",
        "\n",
        "    print(\"QQ^T:\\n\", i_approx_rounded)\n",
        "\n",
        "    # Check result is close to identity matrix\n",
        "    is_orthonormal = np.allclose(i_approx, i, atol=1e-6)\n",
        "\n",
        "    if is_orthonormal:\n",
        "        print(\"Q is orthonormal.\\n\")\n",
        "    else:\n",
        "        print(\"Q is not orthonormal.\\n\")\n",
        "\n",
        "\n",
        "def verify_A_QR(A, Q, R):\n",
        "    A_approx = np.dot(Q, R)\n",
        "    A_approx_rounded = np.round(A_approx, decimals=2)\n",
        "\n",
        "    print(\"A:\\n\", A)\n",
        "    print(\"QR:\\n\", A_approx_rounded)\n",
        "\n",
        "    # Check if A is close to QR\n",
        "    is_decomposition_correct = np.allclose(A, A_approx, atol=1e-6)\n",
        "\n",
        "    if is_decomposition_correct:\n",
        "        print(\"QR decomposition is correct: A = QR.\")\n",
        "    else:\n",
        "        print(\"QR decomposition is not correct: A != QR.\")\n",
        "\n",
        "\n",
        "# Verifying that Q is orthonormal\n",
        "verify_orthonormal(Q)\n",
        "\n",
        "print(\"-------------------------\\n\")\n",
        "\n",
        "# Verifying that A = QR\n",
        "verify_A_QR(A, Q, R)\n"
      ],
      "metadata": {
        "colab": {
          "base_uri": "https://localhost:8080/"
        },
        "id": "-2IxoKZyTK-x",
        "outputId": "15f806b4-166a-4df1-cd19-b362741e3519"
      },
      "execution_count": 21,
      "outputs": [
        {
          "output_type": "stream",
          "name": "stdout",
          "text": [
            "QQ^T:\n",
            " [[ 1. -0.  0.]\n",
            " [-0.  1.  0.]\n",
            " [ 0.  0.  1.]]\n",
            "Q is orthonormal.\n",
            "\n",
            "-------------------------\n",
            "\n",
            "A:\n",
            " [[1 1 0]\n",
            " [1 0 1]\n",
            " [0 1 1]]\n",
            "QR:\n",
            " [[1. 1. 0.]\n",
            " [1. 0. 1.]\n",
            " [0. 1. 1.]]\n",
            "QR decomposition is correct: A = QR.\n"
          ]
        }
      ]
    },
    {
      "cell_type": "markdown",
      "source": [],
      "metadata": {
        "id": "hCNVSsQNYcBC"
      }
    },
    {
      "cell_type": "markdown",
      "source": [
        "###Least Squares Problem"
      ],
      "metadata": {
        "id": "O-sUXv04lCuV"
      }
    },
    {
      "cell_type": "markdown",
      "source": [
        "Let $A \\in \\mathbb{R}^{n \\times m}$ be an $n \\times m$ matrix, where $n>m$, and $b \\in \\mathbb{R}^n$ be a vector. We try to solve the system $Ax = b$, which is often inconsistent. We are looking to use $Ax$ to approximate $b$.\n",
        "\n",
        "We can use the least squares problem, using the normal equations:\n",
        "\n",
        "$$\\min_{x \\in \\mathbb{R}^m} \\|Ax - b\\|$$\n",
        "\n",
        "\n",
        "$$A^TA\\textbf{x}=A^T\\textbf{b}$$\n"
      ],
      "metadata": {
        "id": "y7LoRfO_oi7d"
      }
    },
    {
      "cell_type": "markdown",
      "source": [
        "###Linear Regression"
      ],
      "metadata": {
        "id": "k3QiwxG1lGfr"
      }
    },
    {
      "cell_type": "markdown",
      "source": [
        "Given input data points, linear regression aims to find a function that fits the data. The common approach involves finding coefficients $\\beta_j$'s that minimize the criterion\n",
        "\n",
        "$$\n",
        "\\sum_{i=1}^{n} (y_i - \\hat{y}_i)^2\n",
        "$$\n",
        "\n",
        "where\n",
        "\n",
        "$$\n",
        "\\hat{y}_i = \\beta_0 + \\sum_{j=1}^{d} \\beta_j x_{ij}\n",
        "$$\n",
        "\n",
        "\n",
        "The linear regression model can be depicted from:\n",
        "\n",
        "**Linear:** $y= \\beta _0 + \\beta _1 \\cdot x $\n",
        "\n",
        "**Slope:** $\\beta _1 = \\frac{\\sum (x _i -\\bar x)(y _i - \\bar y)}{\\sum (x _i - \\bar x) ^2}$\n",
        "\n",
        "**Intercept:** $\\beta _0 = \\bar y - \\beta _1 \\bar x$"
      ],
      "metadata": {
        "id": "iE0hNVr8U92V"
      }
    },
    {
      "cell_type": "code",
      "source": [
        "# Generate random data points\n",
        "np.random.seed(0)\n",
        "n = 100\n",
        "x = 2 * np.random.rand(n)\n",
        "y = 4 + 3 * x + np.random.randn(n)\n",
        "\n",
        "# Coefficients for linear regression\n",
        "x_mean = np.mean(x)\n",
        "y_mean = np.mean(y)\n",
        "\n",
        "# Calculate values for slope (beta_1)\n",
        "xx_val = np.sum((x - x_mean)**2)\n",
        "xy_val = np.sum((x - x_mean) * (y - y_mean))\n",
        "\n",
        "# Slope\n",
        "beta_1 = xy_val / xx_val\n",
        "\n",
        "# Intercept\n",
        "beta_0 = y_mean - beta_1 * x_mean\n",
        "\n",
        "# Predicted values\n",
        "y_pred = beta_0 + beta_1 * x\n",
        "\n",
        "# Plot\n",
        "plt.figure(figsize=(8, 6))\n",
        "plt.scatter(x, y, color='blue', label='Data points', s=50)\n",
        "plt.plot(x, y_pred, color='red', label=f'Linear Fit: $y = {beta_0:.2f} + {beta_1:.2f}x$', linewidth=2)\n",
        "plt.xlabel('x')\n",
        "plt.ylabel('y')\n",
        "plt.title('Linear Regression: Data Points and Best Fit Line')\n",
        "plt.legend()\n",
        "plt.grid(True)\n",
        "\n",
        "plt.show()\n",
        "\n",
        "# Print\n",
        "print(f\"Slope (beta_1): {beta_1}\")\n",
        "print(f\"Intercept (beta_0): {beta_0}\")\n"
      ],
      "metadata": {
        "colab": {
          "base_uri": "https://localhost:8080/",
          "height": 599
        },
        "id": "vwuyptFdE8G7",
        "outputId": "1d12ed69-8d1d-45f2-877b-0a3560461666"
      },
      "execution_count": 26,
      "outputs": [
        {
          "output_type": "display_data",
          "data": {
            "text/plain": [
              "<Figure size 800x600 with 1 Axes>"
            ],
            "image/png": "[encoded data removed]"
          },
          "metadata": {}
        },
        {
          "output_type": "stream",
          "name": "stdout",
          "text": [
            "Slope (beta_1): 2.968467510701019\n",
            "Intercept (beta_0): 4.222151077447231\n"
          ]
        }
      ]
    }
  ]
}